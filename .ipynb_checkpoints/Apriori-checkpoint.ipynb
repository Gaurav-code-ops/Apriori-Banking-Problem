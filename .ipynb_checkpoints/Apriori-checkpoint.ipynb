{
 "cells": [
  {
   "cell_type": "code",
   "execution_count": 1,
   "metadata": {
    "scrolled": true
   },
   "outputs": [],
   "source": [
    "import numpy as np\n",
    "import matplotlib.pyplot as plt\n",
    "import pandas as pd\n",
    "from apyori import apriori"
   ]
  },
  {
   "cell_type": "code",
   "execution_count": 2,
   "metadata": {},
   "outputs": [
    {
     "name": "stdout",
     "output_type": "stream",
     "text": [
      "      ID  age         job   marital  education default  balance housing loan  \\\n",
      "0  26110   56      admin.   married    unknown      no     1933      no   no   \n",
      "1  40576   31     unknown   married  secondary      no        3      no   no   \n",
      "2  15320   27    services   married  secondary      no      891     yes   no   \n",
      "3  43962   57  management  divorced   tertiary      no     3287      no   no   \n",
      "4  29842   31  technician   married  secondary      no      119     yes   no   \n",
      "\n",
      "     contact  day month  duration  campaign  pdays  previous poutcome  \\\n",
      "0  telephone   19   nov        44         2     -1         0  unknown   \n",
      "1   cellular   20   jul        91         2     -1         0  unknown   \n",
      "2   cellular   18   jul       240         1     -1         0  unknown   \n",
      "3   cellular   22   jun       867         1     84         3  success   \n",
      "4   cellular    4   feb       380         1     -1         0  unknown   \n",
      "\n",
      "  subscribed  \n",
      "0         no  \n",
      "1         no  \n",
      "2         no  \n",
      "3        yes  \n",
      "4         no  \n",
      "(31647, 18)\n"
     ]
    }
   ],
   "source": [
    "data = pd.read_csv('train.csv')\n",
    "print(data.head())\n",
    "print(data.shape)"
   ]
  },
  {
   "cell_type": "code",
   "execution_count": 168,
   "metadata": {},
   "outputs": [
    {
     "data": {
      "text/plain": [
       "Index(['ID', 'age', 'job', 'marital', 'education', 'default', 'balance',\n",
       "       'housing', 'loan', 'contact', 'day', 'month', 'duration', 'campaign',\n",
       "       'pdays', 'previous', 'poutcome', 'subscribed'],\n",
       "      dtype='object')"
      ]
     },
     "execution_count": 168,
     "metadata": {},
     "output_type": "execute_result"
    }
   ],
   "source": [
    "data.columns"
   ]
  },
  {
   "cell_type": "code",
   "execution_count": 169,
   "metadata": {},
   "outputs": [
    {
     "data": {
      "text/plain": [
       "array(['married', 'divorced', 'single'], dtype=object)"
      ]
     },
     "execution_count": 169,
     "metadata": {},
     "output_type": "execute_result"
    }
   ],
   "source": [
    "data.marital.unique()"
   ]
  },
  {
   "cell_type": "code",
   "execution_count": 170,
   "metadata": {},
   "outputs": [
    {
     "data": {
      "text/html": [
       "<div>\n",
       "<style scoped>\n",
       "    .dataframe tbody tr th:only-of-type {\n",
       "        vertical-align: middle;\n",
       "    }\n",
       "\n",
       "    .dataframe tbody tr th {\n",
       "        vertical-align: top;\n",
       "    }\n",
       "\n",
       "    .dataframe thead th {\n",
       "        text-align: right;\n",
       "    }\n",
       "</style>\n",
       "<table border=\"1\" class=\"dataframe\">\n",
       "  <thead>\n",
       "    <tr style=\"text-align: right;\">\n",
       "      <th></th>\n",
       "      <th>ID</th>\n",
       "      <th>age</th>\n",
       "      <th>job</th>\n",
       "      <th>marital</th>\n",
       "      <th>education</th>\n",
       "      <th>default</th>\n",
       "      <th>balance</th>\n",
       "      <th>housing</th>\n",
       "      <th>loan</th>\n",
       "      <th>contact</th>\n",
       "      <th>day</th>\n",
       "      <th>month</th>\n",
       "      <th>duration</th>\n",
       "      <th>campaign</th>\n",
       "      <th>pdays</th>\n",
       "      <th>previous</th>\n",
       "      <th>poutcome</th>\n",
       "      <th>subscribed</th>\n",
       "    </tr>\n",
       "  </thead>\n",
       "  <tbody>\n",
       "    <tr>\n",
       "      <th>0</th>\n",
       "      <td>26110</td>\n",
       "      <td>56</td>\n",
       "      <td>admin.</td>\n",
       "      <td>married</td>\n",
       "      <td>unknown</td>\n",
       "      <td>no</td>\n",
       "      <td>1933</td>\n",
       "      <td>no</td>\n",
       "      <td>no</td>\n",
       "      <td>telephone</td>\n",
       "      <td>19</td>\n",
       "      <td>nov</td>\n",
       "      <td>44</td>\n",
       "      <td>2</td>\n",
       "      <td>-1</td>\n",
       "      <td>0</td>\n",
       "      <td>unknown</td>\n",
       "      <td>no</td>\n",
       "    </tr>\n",
       "    <tr>\n",
       "      <th>1</th>\n",
       "      <td>40576</td>\n",
       "      <td>31</td>\n",
       "      <td>unknown</td>\n",
       "      <td>married</td>\n",
       "      <td>secondary</td>\n",
       "      <td>no</td>\n",
       "      <td>3</td>\n",
       "      <td>no</td>\n",
       "      <td>no</td>\n",
       "      <td>cellular</td>\n",
       "      <td>20</td>\n",
       "      <td>jul</td>\n",
       "      <td>91</td>\n",
       "      <td>2</td>\n",
       "      <td>-1</td>\n",
       "      <td>0</td>\n",
       "      <td>unknown</td>\n",
       "      <td>no</td>\n",
       "    </tr>\n",
       "    <tr>\n",
       "      <th>2</th>\n",
       "      <td>15320</td>\n",
       "      <td>27</td>\n",
       "      <td>services</td>\n",
       "      <td>married</td>\n",
       "      <td>secondary</td>\n",
       "      <td>no</td>\n",
       "      <td>891</td>\n",
       "      <td>yes</td>\n",
       "      <td>no</td>\n",
       "      <td>cellular</td>\n",
       "      <td>18</td>\n",
       "      <td>jul</td>\n",
       "      <td>240</td>\n",
       "      <td>1</td>\n",
       "      <td>-1</td>\n",
       "      <td>0</td>\n",
       "      <td>unknown</td>\n",
       "      <td>no</td>\n",
       "    </tr>\n",
       "    <tr>\n",
       "      <th>3</th>\n",
       "      <td>43962</td>\n",
       "      <td>57</td>\n",
       "      <td>management</td>\n",
       "      <td>divorced</td>\n",
       "      <td>tertiary</td>\n",
       "      <td>no</td>\n",
       "      <td>3287</td>\n",
       "      <td>no</td>\n",
       "      <td>no</td>\n",
       "      <td>cellular</td>\n",
       "      <td>22</td>\n",
       "      <td>jun</td>\n",
       "      <td>867</td>\n",
       "      <td>1</td>\n",
       "      <td>84</td>\n",
       "      <td>3</td>\n",
       "      <td>success</td>\n",
       "      <td>yes</td>\n",
       "    </tr>\n",
       "    <tr>\n",
       "      <th>4</th>\n",
       "      <td>29842</td>\n",
       "      <td>31</td>\n",
       "      <td>technician</td>\n",
       "      <td>married</td>\n",
       "      <td>secondary</td>\n",
       "      <td>no</td>\n",
       "      <td>119</td>\n",
       "      <td>yes</td>\n",
       "      <td>no</td>\n",
       "      <td>cellular</td>\n",
       "      <td>4</td>\n",
       "      <td>feb</td>\n",
       "      <td>380</td>\n",
       "      <td>1</td>\n",
       "      <td>-1</td>\n",
       "      <td>0</td>\n",
       "      <td>unknown</td>\n",
       "      <td>no</td>\n",
       "    </tr>\n",
       "  </tbody>\n",
       "</table>\n",
       "</div>"
      ],
      "text/plain": [
       "      ID  age         job   marital  education default  balance housing loan  \\\n",
       "0  26110   56      admin.   married    unknown      no     1933      no   no   \n",
       "1  40576   31     unknown   married  secondary      no        3      no   no   \n",
       "2  15320   27    services   married  secondary      no      891     yes   no   \n",
       "3  43962   57  management  divorced   tertiary      no     3287      no   no   \n",
       "4  29842   31  technician   married  secondary      no      119     yes   no   \n",
       "\n",
       "     contact  day month  duration  campaign  pdays  previous poutcome  \\\n",
       "0  telephone   19   nov        44         2     -1         0  unknown   \n",
       "1   cellular   20   jul        91         2     -1         0  unknown   \n",
       "2   cellular   18   jul       240         1     -1         0  unknown   \n",
       "3   cellular   22   jun       867         1     84         3  success   \n",
       "4   cellular    4   feb       380         1     -1         0  unknown   \n",
       "\n",
       "  subscribed  \n",
       "0         no  \n",
       "1         no  \n",
       "2         no  \n",
       "3        yes  \n",
       "4         no  "
      ]
     },
     "execution_count": 170,
     "metadata": {},
     "output_type": "execute_result"
    }
   ],
   "source": [
    "data['job'] = data['job'].str.strip()\n",
    "data.dropna(axis = 0, subset =['ID'], inplace = True)\n",
    "data['ID'] = data['ID'].astype('str')\n",
    "data = data[~data['ID'].str.contains('C')]\n",
    "data.head()"
   ]
  },
  {
   "cell_type": "code",
   "execution_count": 171,
   "metadata": {},
   "outputs": [
    {
     "name": "stdout",
     "output_type": "stream",
     "text": [
      "      loan         job housing\n",
      "0       no      admin.      no\n",
      "1       no     unknown      no\n",
      "2       no    services     yes\n",
      "3       no  management      no\n",
      "4       no  technician     yes\n",
      "...    ...         ...     ...\n",
      "31642   no  management     yes\n",
      "31643  yes  management      no\n",
      "31644   no  management      no\n",
      "31645   no  technician     yes\n",
      "31646   no  management     yes\n",
      "\n",
      "[31647 rows x 3 columns]\n"
     ]
    }
   ],
   "source": [
    "c_df=data.copy()\n",
    "d_df=c_df[['loan','job','housing']]\n",
    "print(d_df)"
   ]
  },
  {
   "cell_type": "code",
   "execution_count": 172,
   "metadata": {},
   "outputs": [
    {
     "name": "stdout",
     "output_type": "stream",
     "text": [
      "[['no', 'technician', 'no']]\n",
      "[['no', 'technician', 'no'], ['no', 'blue-collar', 'yes']]\n",
      "[['no', 'technician', 'no'], ['no', 'blue-collar', 'yes'], ['no', 'entrepreneur', 'yes']]\n",
      "[['no', 'technician', 'no'], ['no', 'blue-collar', 'yes'], ['no', 'entrepreneur', 'yes'], ['yes', 'technician', 'no']]\n",
      "[['no', 'technician', 'no'], ['no', 'blue-collar', 'yes'], ['no', 'entrepreneur', 'yes'], ['yes', 'technician', 'no'], ['no', 'management', 'no']]\n",
      "[['no', 'technician', 'no'], ['no', 'blue-collar', 'yes'], ['no', 'entrepreneur', 'yes'], ['yes', 'technician', 'no'], ['no', 'management', 'no'], ['yes', 'management', 'no']]\n",
      "[['no', 'technician', 'no'], ['no', 'blue-collar', 'yes'], ['no', 'entrepreneur', 'yes'], ['yes', 'technician', 'no'], ['no', 'management', 'no'], ['yes', 'management', 'no'], ['no', 'blue-collar', 'yes']]\n",
      "[['no', 'technician', 'no'], ['no', 'blue-collar', 'yes'], ['no', 'entrepreneur', 'yes'], ['yes', 'technician', 'no'], ['no', 'management', 'no'], ['yes', 'management', 'no'], ['no', 'blue-collar', 'yes'], ['no', 'housemaid', 'no']]\n",
      "[['no', 'technician', 'no'], ['no', 'blue-collar', 'yes'], ['no', 'entrepreneur', 'yes'], ['yes', 'technician', 'no'], ['no', 'management', 'no'], ['yes', 'management', 'no'], ['no', 'blue-collar', 'yes'], ['no', 'housemaid', 'no'], ['no', 'services', 'yes']]\n"
     ]
    }
   ],
   "source": [
    "transactions = []\n",
    "for i in range(257, 266):\n",
    "    transactions.append([str(d_df.values[i,j]) for j in range(0, 3)])\n",
    "    print(transactions)"
   ]
  },
  {
   "cell_type": "code",
   "execution_count": 173,
   "metadata": {},
   "outputs": [
    {
     "name": "stdout",
     "output_type": "stream",
     "text": [
      "[RelationRecord(items=frozenset({'no'}), support=1.0, ordered_statistics=[OrderedStatistic(items_base=frozenset(), items_add=frozenset({'no'}), confidence=1.0, lift=1.0)])]\n"
     ]
    }
   ],
   "source": [
    "rules = apriori(transactions,\n",
    "                min_support = 0.7,\n",
    "                min_confidence = 0.3333,\n",
    "                min_lift = 0.4761,\n",
    "                min_length =1)\n",
    "\n",
    "MB = list(rules)\n",
    "print(MB)"
   ]
  },
  {
   "cell_type": "code",
   "execution_count": 174,
   "metadata": {},
   "outputs": [
    {
     "name": "stdout",
     "output_type": "stream",
     "text": [
      "[['no']]\n"
     ]
    }
   ],
   "source": [
    "Result = [list(MB[i][0]) for i in range(0, len(MB))]\n",
    "print(Result)"
   ]
  }
 ],
 "metadata": {
  "kernelspec": {
   "display_name": "Python 3",
   "language": "python",
   "name": "python3"
  },
  "language_info": {
   "codemirror_mode": {
    "name": "ipython",
    "version": 3
   },
   "file_extension": ".py",
   "mimetype": "text/x-python",
   "name": "python",
   "nbconvert_exporter": "python",
   "pygments_lexer": "ipython3",
   "version": "3.7.6"
  }
 },
 "nbformat": 4,
 "nbformat_minor": 4
}
